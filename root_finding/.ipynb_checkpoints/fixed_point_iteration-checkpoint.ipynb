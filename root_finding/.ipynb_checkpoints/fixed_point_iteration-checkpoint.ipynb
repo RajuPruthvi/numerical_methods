{
 "cells": [
  {
   "cell_type": "markdown",
   "metadata": {},
   "source": [
    "# Fixed Point Iteration"
   ]
  },
  {
   "cell_type": "markdown",
   "metadata": {
    "tags": []
   },
   "source": [
    "#### Problem\n",
    "Find a root for $f(x)$.\n",
    "\n",
    "#### Solution\n",
    "Write $g(x) = f(x) + x$,  \n",
    "To find root for $f(x)$ => find points of intersection of line $y = x$ and $y = g(x)$. i.e sol for $x = g(x)$\n",
    "\n",
    "#### Condition for convergence\n",
    "$g(x) \\in [a, b]$ for all $x \\in [a, b]$, &nbsp; $g'(x)$ exits on $(a, b)$ with $|g'(x)| < 1$ for all $x \\in [a, b]$ "
   ]
  },
  {
   "cell_type": "code",
   "execution_count": 2,
   "metadata": {},
   "outputs": [],
   "source": [
    "# All the imports\n",
    "import numpy as np\n",
    "import cmath\n",
    "import matplotlib.pyplot as plt"
   ]
  },
  {
   "cell_type": "code",
   "execution_count": 5,
   "metadata": {},
   "outputs": [
    {
     "name": "stdout",
     "output_type": "stream",
     "text": [
      "1 49.75124378109451 0.0004041732900509138\n",
      "2 0.0004041732900509138 -1.0000001633560751\n",
      "3 -1.0000001633560751 3060798.068766542\n"
     ]
    }
   ],
   "source": [
    "def g(x) :\n",
    "    return 1 / (x * x - 1)\n",
    "    \n",
    "num_iterations = 3\n",
    "p0 = 1.01\n",
    "for it in range(num_iterations) :\n",
    "    p1 = g(p0)\n",
    "    print(it + 1, p1, g(p1))\n",
    "    p0 = p1"
   ]
  },
  {
   "cell_type": "code",
   "execution_count": 25,
   "metadata": {},
   "outputs": [
    {
     "data": {
      "image/png": "[encoded data removed]",
      "text/plain": [
       "<Figure size 432x288 with 1 Axes>"
      ]
     },
     "metadata": {
      "needs_background": "light"
     },
     "output_type": "display_data"
    },
    {
     "name": "stdout",
     "output_type": "stream",
     "text": [
      "-0.26175760169089846 0.1381480559906949\n"
     ]
    }
   ],
   "source": [
    "def f(x) :\n",
    "    return x - np.cos((0.7854 - x * np.sqrt(1 - x * x)) / (1 - 2 * x * x))\n",
    "    \n",
    "x = np.linspace(0, 0.6, 10)\n",
    "plt.plot(x, f(x))\n",
    "plt.show()\n",
    "print(f(0.5), f(0.6))"
   ]
  }
 ],
 "metadata": {
  "kernelspec": {
   "display_name": "Python 3 (ipykernel)",
   "language": "python",
   "name": "python3"
  },
  "language_info": {
   "codemirror_mode": {
    "name": "ipython",
    "version": 3
   },
   "file_extension": ".py",
   "mimetype": "text/x-python",
   "name": "python",
   "nbconvert_exporter": "python",
   "pygments_lexer": "ipython3",
   "version": "3.9.12"
  }
 },
 "nbformat": 4,
 "nbformat_minor": 4
}
