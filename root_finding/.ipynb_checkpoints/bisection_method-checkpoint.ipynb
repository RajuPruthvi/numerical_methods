{
 "cells": [
  {
   "cell_type": "markdown",
   "metadata": {},
   "source": [
    "# Bisection Method"
   ]
  },
  {
   "cell_type": "markdown",
   "metadata": {},
   "source": [
    "#### Problem  \n",
    "Find a root for $f(x)$.\n",
    "\n",
    "#### Solution  \n",
    "Find two points $x_0$ and $x_1$ where $f(x_0) * f(x_1) < 0$, by trial and guess.  \n",
    "As $f$ is continuous, there exists a root in the range $(x_0, x_1)$.  \n",
    "Next point is $x_2 = (x_0 + x_1) / 2$, based on the sign of $f(x_2) * f(x_1)$ update the range.\n",
    "\n",
    "#### Rate of Convergence  \n",
    "Linear\n"
   ]
  },
  {
   "cell_type": "code",
   "execution_count": 4,
   "metadata": {},
   "outputs": [],
   "source": [
    "# All the imports\n",
    "import numpy as np"
   ]
  },
  {
   "cell_type": "markdown",
   "metadata": {},
   "source": [
    "#### Without epsilon, fixed number of iterations"
   ]
  },
  {
   "cell_type": "code",
   "execution_count": 5,
   "metadata": {},
   "outputs": [
    {
     "name": "stdout",
     "output_type": "stream",
     "text": [
      "iter = 1, x2 = 2.5, y2 = -0.022059991327962436\n",
      "iter = 2, x2 = 2.75, y2 = 0.0575145120120808\n",
      "iter = 3, x2 = 2.625, y2 = 0.019129307741975687\n",
      "iter = 4, x2 = 2.5625, y2 = -0.0010922234971649236\n",
      "iter = 5, x2 = 2.59375, y2 = 0.009108836947734178\n",
      "iter = 6, x2 = 2.578125, y2 = 0.004031242957291847\n",
      "iter = 7, x2 = 2.5703125, y2 = 0.001475290004233576\n",
      "iter = 8, x2 = 2.56640625, y2 = 0.0001929841566070123\n",
      "iter = 9, x2 = 2.564453125, y2 = -0.0004492562115608889\n",
      "iter = 10, x2 = 2.5654296875, y2 = -0.0001280452545791011\n",
      "iter = 11, x2 = 2.56591796875, y2 = 3.249213277994878e-05\n",
      "iter = 12, x2 = 2.565673828125, y2 = -4.777088902646609e-05\n",
      "iter = 13, x2 = 2.5657958984375, y2 = -7.637960333983784e-06\n",
      "iter = 14, x2 = 2.56585693359375, y2 = 1.2427440647944099e-05\n",
      "iter = 15, x2 = 2.565826416015625, y2 = 2.394828766016932e-06\n",
      "iter = 16, x2 = 2.5658111572265625, y2 = -2.6215436313425933e-06\n",
      "iter = 17, x2 = 2.5658187866210938, y2 = -1.1335189459282802e-07\n",
      "iter = 18, x2 = 2.5658226013183594, y2 = 1.140739820271186e-06\n",
      "iter = 19, x2 = 2.5658206939697266, y2 = 5.136943089789625e-07\n",
      "iter = 20, x2 = 2.56581974029541, y2 = 2.001712937627076e-07\n",
      "iter = 21, x2 = 2.565819263458252, y2 = 4.340972126204434e-08\n",
      "iter = 22, x2 = 2.565819025039673, y2 = -3.497108125305459e-08\n",
      "iter = 23, x2 = 2.5658191442489624, y2 = 4.219321336762505e-09\n",
      "iter = 24, x2 = 2.5658190846443176, y2 = -1.5375879625079136e-08\n",
      "iter = 25, x2 = 2.56581911444664, y2 = -5.578279005380438e-09\n",
      "iter = 26, x2 = 2.565819129347801, y2 = -6.794788065533908e-10\n",
      "iter = 27, x2 = 2.565819136798382, y2 = 1.769921265104557e-09\n",
      "iter = 28, x2 = 2.5658191330730915, y2 = 5.452212015200075e-10\n",
      "iter = 29, x2 = 2.5658191312104464, y2 = -6.712885802784285e-11\n",
      "iter = 30, x2 = 2.565819132141769, y2 = 2.3904622725723357e-10\n"
     ]
    }
   ],
   "source": [
    "def f(x):\n",
    "    return np.log10(x) - 1.05 / x\n",
    "\n",
    "# initial points\n",
    "x0 = 2\n",
    "x1 = 3\n",
    "y0 = f(x0)\n",
    "y1 = f(x1)\n",
    "\n",
    "num_iterations = 30\n",
    "\n",
    "for it in range(num_iterations):\n",
    "    x2 = (x0 + x1) / 2\n",
    "    y2 = f(x2)\n",
    "    print(\"iter = \" + str(it + 1) + \", \" + \"x2 = \" + str(x2) + \", \" + \"y2 = \" + str(y2))\n",
    "    if(y2 * y1 < 0):\n",
    "        x0 = x2\n",
    "        y0 = y2\n",
    "    else :\n",
    "        x1 = x2\n",
    "        y1 = y2"
   ]
  },
  {
   "cell_type": "markdown",
   "metadata": {},
   "source": [
    "#### With epsilon, break when $|x_1-x_2| < \\epsilon$."
   ]
  },
  {
   "cell_type": "code",
   "execution_count": 6,
   "metadata": {},
   "outputs": [
    {
     "name": "stdout",
     "output_type": "stream",
     "text": [
      "iter = 1, 1.5 8.890625\n",
      "iter = 2, 1.25 1.564697265625\n",
      "iter = 3, 1.125 -0.09771347045898438\n",
      "iter = 4, 1.1875 0.6166530251502991\n",
      "iter = 5, 1.15625 0.23326892498880625\n",
      "iter = 6, 1.140625 0.06157783210801426\n",
      "iter = 7, 1.1328125 -0.01957555101375874\n",
      "iter = 8, 1.13671875 0.02061899522150057\n",
      "iter = 9, 1.134765625 0.00042684152857264124\n",
      "iter = 10, 1.1337890625 -0.009597993286452056\n",
      "0.0009765625\n"
     ]
    }
   ],
   "source": [
    "def f(x):\n",
    "    return pow(x, 6) - x - 1\n",
    "\n",
    "epsilon = 0.001\n",
    "num_iterations = 30\n",
    "\n",
    "# initial points\n",
    "x0 = 1\n",
    "x1 = 2\n",
    "y0 = f(x0)\n",
    "y1 = f(x1)\n",
    "\n",
    "for it in range(num_iterations):\n",
    "    x2 = (x0 + x1) / 2\n",
    "    y2 = f(x2)\n",
    "    print(\"iter = \" + str(it + 1) + \", \" + str(x2) + \" \" + str(y2))\n",
    "    if(abs(x1 - x2) < epsilon) :\n",
    "        print(abs(x1 - x2))\n",
    "        break\n",
    "    if(y2 * y1 < 0):\n",
    "        x0 = x2\n",
    "        y0 = y2\n",
    "    else :\n",
    "        x1 = x2\n",
    "        y1 = y2"
   ]
  }
 ],
 "metadata": {
  "kernelspec": {
   "display_name": "Python 3 (ipykernel)",
   "language": "python",
   "name": "python3"
  },
  "language_info": {
   "codemirror_mode": {
    "name": "ipython",
    "version": 3
   },
   "file_extension": ".py",
   "mimetype": "text/x-python",
   "name": "python",
   "nbconvert_exporter": "python",
   "pygments_lexer": "ipython3",
   "version": "3.9.12"
  }
 },
 "nbformat": 4,
 "nbformat_minor": 4
}
