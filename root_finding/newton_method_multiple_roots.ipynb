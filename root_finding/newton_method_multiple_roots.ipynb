{
 "cells": [
  {
   "cell_type": "code",
   "execution_count": 2,
   "metadata": {},
   "outputs": [
    {
     "name": "stdout",
     "output_type": "stream",
     "text": [
      "1 1.4847775175644062 -0.03730348877437706\n",
      "2 1.219485081484207 -1.39118043733788e-05\n",
      "3 1.2000679935447711 -5.933031843596837e-13\n",
      "4 1.2000013242739749 0.0\n",
      "5 1.2000013242739749 0.0\n",
      "6 1.2000013242739749 0.0\n",
      "7 1.2000013242739749 0.0\n",
      "8 1.2000013242739749 0.0\n",
      "9 1.2000013242739749 0.0\n",
      "10 1.2000013242739749 0.0\n",
      "11 1.2000013242739749 0.0\n",
      "12 1.2000013242739749 0.0\n",
      "13 1.2000013242739749 0.0\n",
      "14 1.2000013242739749 0.0\n",
      "15 1.2000013242739749 0.0\n",
      "16 1.2000013242739749 0.0\n",
      "17 1.2000013242739749 0.0\n",
      "18 1.2000013242739749 0.0\n",
      "19 1.2000013242739749 0.0\n",
      "20 1.2000013242739749 0.0\n"
     ]
    }
   ],
   "source": [
    "import numpy as np\n",
    "import matplotlib.pyplot as plt\n",
    "import cmath\n",
    "\n",
    "def f(x):\n",
    "    return x ** 4 - 6.7 * (x ** 3) + 15.48 * x * x - 15.12 * x + 5.3568\n",
    "    \n",
    "def fd(x):\n",
    "    return 4 * (x ** 3) - 6.7 * 3 * x * x + 15.48 * 2 * x - 15.12\n",
    "    \n",
    "def fdd(x):\n",
    "    return 12 * x * x - 6.7 * 6 * x + 15.48 * 2\n",
    "    \n",
    "num_iter = 20\n",
    "p0 = 2\n",
    "q0 = f(p0)\n",
    "for it in range(num_iter) :\n",
    "    p1 = p0 - f(p0) * fd(p0) / (fd(p0) * fd(p0) - f(p0) * fdd(p0))\n",
    "    print(it + 1, p1, f(p1))\n",
    "    p0 = p1"
   ]
  }
 ],
 "metadata": {
  "kernelspec": {
   "display_name": "Python 3",
   "language": "python",
   "name": "python3"
  },
  "language_info": {
   "codemirror_mode": {
    "name": "ipython",
    "version": 3
   },
   "file_extension": ".py",
   "mimetype": "text/x-python",
   "name": "python",
   "nbconvert_exporter": "python",
   "pygments_lexer": "ipython3",
   "version": "3.8.3"
  }
 },
 "nbformat": 4,
 "nbformat_minor": 4
}
