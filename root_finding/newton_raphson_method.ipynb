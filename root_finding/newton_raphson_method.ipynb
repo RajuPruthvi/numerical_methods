{
 "cells": [
  {
   "cell_type": "markdown",
   "metadata": {},
   "source": [
    "### All the imports"
   ]
  },
  {
   "cell_type": "code",
   "execution_count": 1,
   "metadata": {},
   "outputs": [],
   "source": [
    "import numpy as np\n",
    "import matplotlib.pyplot as plt\n",
    "import cmath"
   ]
  },
  {
   "cell_type": "code",
   "execution_count": 5,
   "metadata": {},
   "outputs": [
    {
     "name": "stdout",
     "output_type": "stream",
     "text": [
      "1 -0.5081985583575099 -5.0842983090326754e-06\n",
      "2 -0.5081285543083697 -3.708386930867391e-10\n",
      "3 -0.5081285492016674 1.1102230246251565e-16\n",
      "4 -0.5081285492016689 0.0\n",
      "5 -0.5081285492016689 0.0\n",
      "6 -0.5081285492016689 0.0\n",
      "7 -0.5081285492016689 0.0\n",
      "8 -0.5081285492016689 0.0\n",
      "9 -0.5081285492016689 0.0\n",
      "10 -0.5081285492016689 0.0\n",
      "11 -0.5081285492016689 0.0\n",
      "12 -0.5081285492016689 0.0\n",
      "13 -0.5081285492016689 0.0\n",
      "14 -0.5081285492016689 0.0\n",
      "15 -0.5081285492016689 0.0\n",
      "16 -0.5081285492016689 0.0\n",
      "17 -0.5081285492016689 0.0\n",
      "18 -0.5081285492016689 0.0\n",
      "19 -0.5081285492016689 0.0\n",
      "20 -0.5081285492016689 0.0\n"
     ]
    }
   ],
   "source": [
    "def f(x) :\n",
    "    return np.cos(np.pi * (x + 1) / 8) + 0.148 * x - 0.9062\n",
    "    \n",
    "def fd(x) :\n",
    "    return -np.sin(np.pi * (x + 1) / 8) * np.pi / 8 + 0.148\n",
    "\n",
    "num_iter = 20\n",
    "p0 = -0.5\n",
    "for it in range(num_iter) :\n",
    "    p1 = p0 - (f(p0) / fd(p0))\n",
    "    print(it + 1, p1, f(p1))\n",
    "    p0 = p1"
   ]
  }
 ],
 "metadata": {
  "kernelspec": {
   "display_name": "Python 3",
   "language": "python",
   "name": "python3"
  },
  "language_info": {
   "codemirror_mode": {
    "name": "ipython",
    "version": 3
   },
   "file_extension": ".py",
   "mimetype": "text/x-python",
   "name": "python",
   "nbconvert_exporter": "python",
   "pygments_lexer": "ipython3",
   "version": "3.8.3"
  }
 },
 "nbformat": 4,
 "nbformat_minor": 4
}
