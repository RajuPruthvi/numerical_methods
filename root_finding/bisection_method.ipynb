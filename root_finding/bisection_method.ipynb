{
 "cells": [
  {
   "cell_type": "markdown",
   "metadata": {},
   "source": [
    "### Without epsilon"
   ]
  },
  {
   "cell_type": "code",
   "execution_count": 3,
   "metadata": {},
   "outputs": [
    {
     "name": "stdout",
     "output_type": "stream",
     "text": [
      "iter = 1, 2.5 -0.022059991327962436\n",
      "iter = 2, 2.75 0.0575145120120808\n",
      "iter = 3, 2.625 0.019129307741975687\n",
      "iter = 4, 2.5625 -0.0010922234971649236\n",
      "iter = 5, 2.59375 0.009108836947734178\n",
      "iter = 6, 2.578125 0.004031242957291847\n",
      "iter = 7, 2.5703125 0.001475290004233576\n",
      "iter = 8, 2.56640625 0.0001929841566070123\n",
      "iter = 9, 2.564453125 -0.0004492562115608889\n",
      "iter = 10, 2.5654296875 -0.0001280452545791011\n",
      "iter = 11, 2.56591796875 3.249213277994878e-05\n",
      "iter = 12, 2.565673828125 -4.777088902646609e-05\n",
      "iter = 13, 2.5657958984375 -7.637960333983784e-06\n",
      "iter = 14, 2.56585693359375 1.2427440647944099e-05\n",
      "iter = 15, 2.565826416015625 2.394828766016932e-06\n",
      "iter = 16, 2.5658111572265625 -2.6215436313425933e-06\n",
      "iter = 17, 2.5658187866210938 -1.1335189459282802e-07\n",
      "iter = 18, 2.5658226013183594 1.140739820271186e-06\n",
      "iter = 19, 2.5658206939697266 5.136943089789625e-07\n",
      "iter = 20, 2.56581974029541 2.001712937627076e-07\n",
      "iter = 21, 2.565819263458252 4.340972126204434e-08\n",
      "iter = 22, 2.565819025039673 -3.497108125305459e-08\n",
      "iter = 23, 2.5658191442489624 4.219321336762505e-09\n",
      "iter = 24, 2.5658190846443176 -1.5375879625079136e-08\n",
      "iter = 25, 2.56581911444664 -5.578279005380438e-09\n",
      "iter = 26, 2.565819129347801 -6.794788065533908e-10\n",
      "iter = 27, 2.565819136798382 1.769921265104557e-09\n",
      "iter = 28, 2.5658191330730915 5.452212015200075e-10\n",
      "iter = 29, 2.5658191312104464 -6.712885802784285e-11\n",
      "iter = 30, 2.565819132141769 2.3904622725723357e-10\n"
     ]
    }
   ],
   "source": [
    "# find two points x0 and x1 where f(x0) * f(x1) < 0\n",
    "import numpy as np\n",
    "\n",
    "def f(x):\n",
    "    return np.log10(x) - 1.05 / x\n",
    "\n",
    "# initial points\n",
    "x0 = 2\n",
    "x1 = 3\n",
    "y0 = f(x0)\n",
    "y1 = f(x1)\n",
    "\n",
    "num_iterations = 30\n",
    "\n",
    "for it in range(num_iterations):\n",
    "    x2 = (x0 + x1) / 2\n",
    "    y2 = f(x2)\n",
    "    print(\"iter = \" + str(it + 1) + \", \" + str(x2) + \" \" + str(y2))\n",
    "    if(y2 * y1 < 0):\n",
    "        x0 = x2\n",
    "        y0 = y2\n",
    "    else :\n",
    "        x1 = x2\n",
    "        y1 = y2"
   ]
  },
  {
   "cell_type": "markdown",
   "metadata": {},
   "source": [
    "### With epsilon"
   ]
  },
  {
   "cell_type": "code",
   "execution_count": 1,
   "metadata": {},
   "outputs": [
    {
     "name": "stdout",
     "output_type": "stream",
     "text": [
      "iter = 1, 1.5 8.890625\n",
      "iter = 2, 1.25 1.564697265625\n",
      "iter = 3, 1.125 -0.09771347045898438\n",
      "iter = 4, 1.1875 0.6166530251502991\n",
      "iter = 5, 1.15625 0.23326892498880625\n",
      "iter = 6, 1.140625 0.06157783210801426\n",
      "iter = 7, 1.1328125 -0.01957555101375874\n",
      "iter = 8, 1.13671875 0.02061899522150057\n",
      "iter = 9, 1.134765625 0.00042684152857264124\n",
      "iter = 10, 1.1337890625 -0.009597993286452056\n",
      "0.0009765625\n"
     ]
    }
   ],
   "source": [
    "# find two points x0 and x1 where f(x0) * f(x1) < 0\n",
    "\n",
    "def f(x):\n",
    "    return pow(x, 6) - x - 1\n",
    "\n",
    "# initial points\n",
    "x0 = 1\n",
    "x1 = 2\n",
    "y0 = f(x0)\n",
    "y1 = f(x1)\n",
    "epsilon = 0.001\n",
    "\n",
    "num_iterations = 30\n",
    "\n",
    "for it in range(num_iterations):\n",
    "    x2 = (x0 + x1) / 2\n",
    "    y2 = f(x2)\n",
    "    print(\"iter = \" + str(it + 1) + \", \" + str(x2) + \" \" + str(y2))\n",
    "    if(abs(x1 - x2) < epsilon) :\n",
    "        print(abs(x1 - x2))\n",
    "        break\n",
    "    if(y2 * y1 < 0):\n",
    "        x0 = x2\n",
    "        y0 = y2\n",
    "    else :\n",
    "        x1 = x2\n",
    "        y1 = y2"
   ]
  },
  {
   "cell_type": "code",
   "execution_count": null,
   "metadata": {},
   "outputs": [],
   "source": [
    "# calci\n"
   ]
  }
 ],
 "metadata": {
  "kernelspec": {
   "display_name": "Python 3",
   "language": "python",
   "name": "python3"
  },
  "language_info": {
   "codemirror_mode": {
    "name": "ipython",
    "version": 3
   },
   "file_extension": ".py",
   "mimetype": "text/x-python",
   "name": "python",
   "nbconvert_exporter": "python",
   "pygments_lexer": "ipython3",
   "version": "3.8.3"
  }
 },
 "nbformat": 4,
 "nbformat_minor": 4
}
