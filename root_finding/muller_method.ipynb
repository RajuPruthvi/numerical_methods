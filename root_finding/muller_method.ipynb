{
 "cells": [
  {
   "cell_type": "code",
   "execution_count": 1,
   "metadata": {},
   "outputs": [],
   "source": [
    "# all the imports\n",
    "import numpy as np\n",
    "import matplotlib.pyplot as plt\n",
    "import cmath"
   ]
  },
  {
   "cell_type": "code",
   "execution_count": 17,
   "metadata": {},
   "outputs": [
    {
     "name": "stdout",
     "output_type": "stream",
     "text": [
      "1 0.1918570330339825 0.047776923597642296\n",
      "2 0.20118333132825025 0.0022261849389452193\n",
      "3 0.20164040759008134 -3.570063126234757e-06\n",
      "4 0.20163967572407449 -3.2676084060767607e-12\n",
      "5 0.20163967572340463 1.1102230246251565e-16\n",
      "6 0.20163967572340466 1.1102230246251565e-16\n",
      "7 0.20163967572340855 -1.887379141862766e-14\n",
      "8 0.20163967572340494 -1.3322676295501878e-15\n",
      "9 0.2016396757234047 -2.220446049250313e-16\n",
      "10 0.20163967572340463 1.1102230246251565e-16\n",
      "11 0.20163967572340466 1.1102230246251565e-16\n",
      "12 0.20163967572340466 1.1102230246251565e-16\n",
      "13 nan nan\n",
      "14 nan nan\n",
      "15 nan nan\n",
      "16 nan nan\n",
      "17 nan nan\n",
      "18 nan nan\n",
      "19 nan nan\n",
      "20 nan nan\n"
     ]
    },
    {
     "name": "stderr",
     "output_type": "stream",
     "text": [
      "<ipython-input-17-40d86d5ed7e3>:24: RuntimeWarning: invalid value encountered in double_scalars\n",
      "  b = ((p0 - p2) ** 2 * (q1 - q2) - (p1 - p2) ** 2 * (q0 - q2)) / ((p0 - p2) * (p1 - p2) * (p0 - p1))\n",
      "<ipython-input-17-40d86d5ed7e3>:25: RuntimeWarning: invalid value encountered in double_scalars\n",
      "  a = ((p1 - p2) * (q0 - q2) - (p0 - p2) * (q1 - q2)) / ((p0 - p2) * (p1 - p2) * (p0 - p1))\n"
     ]
    }
   ],
   "source": [
    "#applies for complex roots as well\n",
    "\n",
    "def sgn(x) :\n",
    "    if(x >= 0) :\n",
    "        return 1\n",
    "    else :\n",
    "        return -1\n",
    "\n",
    "def f(x) :\n",
    "    return x ** 3 - 5 * x + 1\n",
    "    \n",
    "p0 = 0\n",
    "p1 = 0.5\n",
    "q0 = f(p0)\n",
    "q1 = f(p1)\n",
    "# to obtain p2 by secant method\n",
    "# p2 = p1 - q1 * (p1 - p0) / (q1 - q0)\n",
    "p2 = 1\n",
    "q2 = f(p2)\n",
    "\n",
    "num_iter = 20\n",
    "for it in range(num_iter) :\n",
    "    c = q2\n",
    "    b = ((p0 - p2) ** 2 * (q1 - q2) - (p1 - p2) ** 2 * (q0 - q2)) / ((p0 - p2) * (p1 - p2) * (p0 - p1))\n",
    "    a = ((p1 - p2) * (q0 - q2) - (p0 - p2) * (q1 - q2)) / ((p0 - p2) * (p1 - p2) * (p0 - p1))\n",
    "    \n",
    "    p3 = p2 - (2 * c) / (b + sgn(b) * np.sqrt(b * b - 4 * a * c)) # use cmath.sqrt for complex roots\n",
    "    q3 = f(p3)\n",
    "    print(it + 1, p3, q3)\n",
    "    p0 = p1\n",
    "    p1 = p2\n",
    "    p2 = p3\n",
    "    q0 = q1\n",
    "    q1 = q2\n",
    "    q2 = q3\n",
    "    "
   ]
  }
 ],
 "metadata": {
  "kernelspec": {
   "display_name": "Python 3",
   "language": "python",
   "name": "python3"
  },
  "language_info": {
   "codemirror_mode": {
    "name": "ipython",
    "version": 3
   },
   "file_extension": ".py",
   "mimetype": "text/x-python",
   "name": "python",
   "nbconvert_exporter": "python",
   "pygments_lexer": "ipython3",
   "version": "3.8.3"
  }
 },
 "nbformat": 4,
 "nbformat_minor": 4
}
