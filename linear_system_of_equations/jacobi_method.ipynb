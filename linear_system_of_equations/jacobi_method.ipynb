{
 "cells": [
  {
   "cell_type": "code",
   "execution_count": 1,
   "metadata": {},
   "outputs": [],
   "source": [
    "# all the imports\n",
    "import numpy as np\n",
    "import matplotlib.pyplot as plt"
   ]
  },
  {
   "cell_type": "code",
   "execution_count": 8,
   "metadata": {},
   "outputs": [
    {
     "name": "stdout",
     "output_type": "stream",
     "text": [
      "1 [5.66666667 5.1        0.625     ]\n",
      "2 [4.73       3.90416667 1.19166667]\n",
      "3 [5.04472222 4.03483333 1.00979167]\n",
      "4 [4.99433889 3.99007639 1.00311806]\n",
      "5 [5.00240046 4.00082042 0.99822674]\n",
      "6 [4.99959948 3.99969723 0.99990505]\n",
      "7 [5.00004789 4.0000896  0.99997437]\n",
      "8 [4.99997866 3.99999298 1.00001641]\n",
      "9 [5.00000359 4.00000263 1.00000091]\n",
      "10 [4.9999996  3.99999919 1.00000021]\n",
      "11 [5.00000019 4.00000006 0.99999985]\n",
      "12 [4.99999997 3.99999998 0.99999999]\n",
      "13 [5.         4.00000001 1.        ]\n",
      "14 [5. 4. 1.]\n",
      "15 [5. 4. 1.]\n",
      "16 [5. 4. 1.]\n",
      "17 [5. 4. 1.]\n",
      "18 [5. 4. 1.]\n",
      "19 [5. 4. 1.]\n",
      "20 [5. 4. 1.]\n"
     ]
    }
   ],
   "source": [
    "# solve linear system of equations AX = B\n",
    "\n",
    "def jacobi(A, B) :\n",
    "    n = A.shape[0]\n",
    "    assert(A.shape[1] == n)\n",
    "    X = np.zeros(n)\n",
    "    num_iter = 20\n",
    "    for it in range(num_iter) :\n",
    "        nX = np.zeros(n)\n",
    "        for i in range(n) :\n",
    "            sum = B[i]\n",
    "            for j in range(n) :\n",
    "                if(j == i) :\n",
    "                    continue\n",
    "                sum -= A[i][j] * X[j]\n",
    "            nX[i] = sum / A[i][i]\n",
    "        print(it + 1, nX)\n",
    "        X = nX\n",
    "    return X\n",
    "\n",
    "A = np.array([[15, 3, -2], [2, 10, 1], [1, -2, 8]])\n",
    "B = [85, 51, 5]\n",
    "X = jacobi(A, B)\n",
    "# print(X)\n"
   ]
  }
 ],
 "metadata": {
  "kernelspec": {
   "display_name": "Python 3",
   "language": "python",
   "name": "python3"
  },
  "language_info": {
   "codemirror_mode": {
    "name": "ipython",
    "version": 3
   },
   "file_extension": ".py",
   "mimetype": "text/x-python",
   "name": "python",
   "nbconvert_exporter": "python",
   "pygments_lexer": "ipython3",
   "version": "3.8.3"
  }
 },
 "nbformat": 4,
 "nbformat_minor": 4
}
