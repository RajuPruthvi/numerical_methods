{
 "cells": [
  {
   "cell_type": "code",
   "execution_count": 1,
   "metadata": {},
   "outputs": [],
   "source": [
    "# all the imports\n",
    "import numpy as np\n",
    "import matplotlib.pyplot as plt"
   ]
  },
  {
   "cell_type": "code",
   "execution_count": 2,
   "metadata": {},
   "outputs": [
    {
     "name": "stdout",
     "output_type": "stream",
     "text": [
      "1 [ 0.075       0.37875     0.68634375 -0.17933906]\n",
      "2 [ 0.10661262  0.39300575  0.67852351 -0.17858337]\n",
      "3 [ 0.10714879  0.39285594  0.67857095 -0.17857133]\n",
      "4 [ 0.10714279  0.39285713  0.67857143 -0.17857143]\n",
      "5 [ 0.10714286  0.39285714  0.67857143 -0.17857143]\n",
      "6 [ 0.10714286  0.39285714  0.67857143 -0.17857143]\n",
      "7 [ 0.10714286  0.39285714  0.67857143 -0.17857143]\n",
      "8 [ 0.10714286  0.39285714  0.67857143 -0.17857143]\n",
      "9 [ 0.10714286  0.39285714  0.67857143 -0.17857143]\n",
      "10 [ 0.10714286  0.39285714  0.67857143 -0.17857143]\n",
      "11 [ 0.10714286  0.39285714  0.67857143 -0.17857143]\n",
      "12 [ 0.10714286  0.39285714  0.67857143 -0.17857143]\n",
      "13 [ 0.10714286  0.39285714  0.67857143 -0.17857143]\n",
      "14 [ 0.10714286  0.39285714  0.67857143 -0.17857143]\n",
      "15 [ 0.10714286  0.39285714  0.67857143 -0.17857143]\n",
      "16 [ 0.10714286  0.39285714  0.67857143 -0.17857143]\n",
      "17 [ 0.10714286  0.39285714  0.67857143 -0.17857143]\n",
      "18 [ 0.10714286  0.39285714  0.67857143 -0.17857143]\n",
      "19 [ 0.10714286  0.39285714  0.67857143 -0.17857143]\n",
      "20 [ 0.10714286  0.39285714  0.67857143 -0.17857143]\n"
     ]
    },
    {
     "data": {
      "text/plain": [
       "array([ 0.10714286,  0.39285714,  0.67857143, -0.17857143])"
      ]
     },
     "execution_count": 2,
     "metadata": {},
     "output_type": "execute_result"
    }
   ],
   "source": [
    "# solve linear system of equations AX = B\n",
    "\n",
    "def gauss(A, B) :\n",
    "    n = A.shape[0]\n",
    "    assert(A.shape[1] == n)\n",
    "    X = np.zeros(n)\n",
    "    num_iter = 20\n",
    "    for it in range(num_iter) :\n",
    "        nX = np.zeros(n)\n",
    "        for i in range(n) :\n",
    "            sum = B[i]\n",
    "            for j in range(i) :\n",
    "                sum -= A[i][j] * nX[j]\n",
    "            for j in range(i + 1, n) :\n",
    "                sum -= A[i][j] * X[j]\n",
    "            nX[i] = sum / A[i][i]\n",
    "        print(it + 1, nX)\n",
    "        X = nX\n",
    "    return X\n",
    "\n",
    "A = np.array([[40, -2, -1, -1], [-2, 40, -1, -1], [-1, -1, 40, -2], [-1, -1, -2, 40]])\n",
    "B = np.array([3, 15, 27, -9])\n",
    "gauss(A, B)"
   ]
  }
 ],
 "metadata": {
  "kernelspec": {
   "display_name": "Python 3",
   "language": "python",
   "name": "python3"
  },
  "language_info": {
   "codemirror_mode": {
    "name": "ipython",
    "version": 3
   },
   "file_extension": ".py",
   "mimetype": "text/x-python",
   "name": "python",
   "nbconvert_exporter": "python",
   "pygments_lexer": "ipython3",
   "version": "3.8.3"
  }
 },
 "nbformat": 4,
 "nbformat_minor": 4
}
