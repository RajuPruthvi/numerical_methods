{
 "cells": [
  {
   "cell_type": "code",
   "execution_count": 2,
   "metadata": {},
   "outputs": [],
   "source": [
    "# all the imports\n",
    "import numpy as np\n",
    "import matplotlib.pyplot as plt"
   ]
  },
  {
   "cell_type": "markdown",
   "metadata": {},
   "source": [
    "### Successive Over Relaxation (SOR) technique\n",
    "$x_i^{(k)} = x_{i}^{(k-1)} + w * r_i^{k} / a_{ii}$\n",
    "\n",
    "$ 0 < w < 1 $, under relaxation, used when Gauss - Seidel Method diverges\n",
    "\n",
    "$ w > 1 $, over relaxation, used to accelerate Gauss - Seidel method convergence\n",
    "\n",
    "$ w = 1 $, same as Gauss - Seidel Method"
   ]
  },
  {
   "cell_type": "code",
   "execution_count": 3,
   "metadata": {},
   "outputs": [
    {
     "name": "stdout",
     "output_type": "stream",
     "text": [
      "1 [4.75     3.96875  2.234375]\n",
      "2 [5.66796875 4.57177734 2.22729492]\n",
      "3 [5.81536865 4.5087204  2.19753647]\n",
      "4 [5.73910809 4.45822275 2.17972726]\n",
      "5 [5.7266122  4.45190647 2.18102142]\n",
      "6 [5.7257885  4.45377958 2.18163443]\n",
      "7 [5.72716511 4.45455482 2.1818688 ]\n",
      "8 [5.72730549 4.45459522 2.18183041]\n",
      "9 [5.72729564 4.45455498 2.18181989]\n",
      "10 [5.72727295 4.45454428 2.18181717]\n",
      "11 [5.72727194 4.45454462 2.18181802]\n",
      "12 [5.7272724  4.45454536 2.18181817]\n",
      "13 [5.72727275 4.45454549 2.1818182 ]\n",
      "14 [5.72727274 4.45454547 2.18181818]\n",
      "15 [5.72727273 4.45454546 2.18181818]\n",
      "16 [5.72727273 4.45454545 2.18181818]\n",
      "17 [5.72727273 4.45454545 2.18181818]\n",
      "18 [5.72727273 4.45454545 2.18181818]\n",
      "19 [5.72727273 4.45454545 2.18181818]\n",
      "20 [5.72727273 4.45454545 2.18181818]\n"
     ]
    }
   ],
   "source": [
    "# solve linear system of equations AX = B\n",
    "\n",
    "def SOR(A, B, w) :\n",
    "    n = A.shape[0]\n",
    "    assert(A.shape[1] == n)\n",
    "    X = np.ones(n)\n",
    "    num_iter = 20\n",
    "    for it in range(num_iter) :\n",
    "        nX = np.zeros(n)\n",
    "        for i in range(n) :\n",
    "            nX[i] = (1 - w) * X[i]\n",
    "            sum = B[i]\n",
    "            for j in range(i) :\n",
    "                sum -= A[i][j] * nX[j]\n",
    "            for j in range(i + 1, n) :\n",
    "                sum -= A[i][j] * X[j]\n",
    "            nX[i] += w / A[i][i] * sum\n",
    "        print(it + 1, nX)\n",
    "        X = nX\n",
    "    \n",
    "A = np.array([[2, -1, 0], [-1, 2, -1], [0, -1, 2.5]])\n",
    "B = np.array([7, 1, 1])\n",
    "w = 1.25\n",
    "SOR(A, B, w)"
   ]
  }
 ],
 "metadata": {
  "kernelspec": {
   "display_name": "Python 3",
   "language": "python",
   "name": "python3"
  },
  "language_info": {
   "codemirror_mode": {
    "name": "ipython",
    "version": 3
   },
   "file_extension": ".py",
   "mimetype": "text/x-python",
   "name": "python",
   "nbconvert_exporter": "python",
   "pygments_lexer": "ipython3",
   "version": "3.8.3"
  }
 },
 "nbformat": 4,
 "nbformat_minor": 4
}
